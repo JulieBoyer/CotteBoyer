{
 "cells": [
  {
   "cell_type": "markdown",
   "id": "5aef6d2f",
   "metadata": {},
   "source": [
    "**Réponse Question 3** Soient $A, B \\in \\cal{B}(\\mathbb{R}^2)$, montrons que $\\mathrm{Cov}(N(A),N(B)) = \\theta |A \\cap B|$\n",
    "\n",
    "$$\n",
    "B=(B\\backslash A) \\cup (B\\cap A)\n",
    "$$ \n",
    "avec  $(B\\backslash A)$ et $(B\\cap A)$ disjoints. \n",
    "Et\n",
    "$$\n",
    "A=(A\\backslash B) \\cup (B\\cap A) \n",
    "$$ \n",
    "avec  $(A\\backslash B)$ et $(B\\cap A)$ disjoints.\n",
    "De plus, $(A\\backslash B)$ et $(B\\backslash A)$ sont disjoints.\n",
    "\n",
    "Donc $\\mathrm{Cov}(N(A),N(B)) = \\mathrm{Cov}(N(A\\backslash B) + N(B\\cap A),N(B\\backslash A)+N(B\\cap A))$\n",
    "Par double-linéarité de la covariance,\n",
    "$$\n",
    "\\mathrm{Cov}(N(A),N(B)) = \\mathrm{Cov}(N(A\\backslash B),N(B\\backslash A)) + \\mathrm{Cov}(N(A\\backslash B),N(B\\cap A)) + \\mathrm{Cov}(N(B\\cap A),N(B\\backslash A))+ \\mathrm{Cov}(N(B\\cap A),N(B\\cap A))\n",
    "$$\n",
    "De plus, $N(A\\backslash B)$ et $N(B\\cap A)$ sont indépendants par disjonction des évenements donc leur covariance est nulle. Il en est de même pour $N(B\\backslash A)$ et $N(B\\cap A)$ et pour $N(A\\backslash B)$ et $N(B\\backslash A)$.\n",
    "Donc\n",
    "$$\n",
    "\\mathrm{Cov}(N(A),N(B)) = \\mathrm{Cov}(N(B\\cap A),N(B\\cap A)) = \\mathbb{V}(N(B\\cap A))\n",
    "$$\n",
    "Comme $N(B\\cap A)$ suit une loi de Poisson de paramètre $\\theta \\, | B\\cap A |$,\n",
    "$$\n",
    "\\mathrm{Cov}(N(A),N(B)) = \\theta \\, | B\\cap A |\n",
    "$$"
   ]
  }
 ],
 "metadata": {
  "kernelspec": {
   "display_name": "Python 3 (ipykernel)",
   "language": "python",
   "name": "python3"
  },
  "language_info": {
   "codemirror_mode": {
    "name": "ipython",
    "version": 3
   },
   "file_extension": ".py",
   "mimetype": "text/x-python",
   "name": "python",
   "nbconvert_exporter": "python",
   "pygments_lexer": "ipython3",
   "version": "3.11.4"
  }
 },
 "nbformat": 4,
 "nbformat_minor": 5
}
