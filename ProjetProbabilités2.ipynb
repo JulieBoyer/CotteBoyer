{
 "cells": [
  {
   "cell_type": "markdown",
   "metadata": {},
   "source": [
    "**BOYER Julie**\n",
    "**COTTE Agathe**"
   ]
  },
  {
   "cell_type": "markdown",
   "metadata": {},
   "source": [
    "# Processus ponctuels \n",
    "\n",
    "Les processus ponctuels sont des modèles probabilistes permettant de décrire la position aléatoire de points dans un domaine spatial. Ils peuvent être utilisés pour modéliser un grand nombre de phénomènes, parmi lesquels on peut citer l'implantation des essences d'arbres au sein d'une forêt, la position des épicentres de séismes ou des départs de feux, la mortalité dans une épidémie, ou encore l'occurence de crimes ou délits en zone urbaine. \n",
    "\n",
    "Dans ce projet, on se propose d'étudier et de simuler un certain nombre de modèles dans $\\mathbb{R}^2$, de complexité croissante, de manière à construire un prototype de modèle écologique visant à simuler la plantation puis l'évolution d'une forêt.\n",
    "\n",
    "On admet que l'on caractérise la loi de probabilité d'un processus ponctuel spatial $\\mathcal{P}$ par le biais de sa *mesure de comptage*, qui est l'application qui à $A \\in \\mathcal{B}(\\mathbb{R}^2)$ associe $N(A)$, la variable aléatoire qui donne le nombre de points de $\\mathcal{P}$ contenus dans $A$. \n",
    "\n",
    "La *loi spatiale de la mesure de comptage* est définie $\\forall p \\in \\mathbb{N^\\star}, \\forall n_1,\\ldots,n_p \\in \\mathbb{N}^p, \\forall A_1,\\ldots,A_p \\in \\mathcal{B}(\\mathbb{R}^2)$ par $\\mathbb{P}(N(A_1)= n_1, \\ldots, N(A_p)=n_p)$.\n",
    "\n",
    "## Processus de Poisson homogène\n",
    "\n",
    "On définit le processus de Poisson homogène de la manière suivante :\n",
    "\n",
    "1. Si $ A \\in {\\cal B} (\\R^2) $, alors $N (A)$ suit\n",
    "      une loi de Poisson de paramètre $\\theta \\, | A |$, avec $\\theta \\in \\R^+$ et $|A| = \\lambda(A)$, où $\\lambda$ est la mesure de Lebesgue\n",
    "      $$ \\mathbb{P} ( N (A) = n) = \\exp \\bigl( - \\theta | A | \\bigr) \\frac{\n",
    "        \\bigl( \\theta | A | \\bigr)^n }{n!},~n \\in \\N $$\n",
    "\n",
    "2. Pour tout $p\\ge 2$, si $A_1,...,A_p \\in {\\cal B} (\\R^2) $ sont \n",
    "      disjoints deux à deux, alors $ N(A_1),...,N(A_p)$ sont \n",
    "      mutuellement indépendants\n",
    "\n",
    "Le paramètre $\\theta$ est appelé l'intensité du processus.\n",
    "\n",
    "**Question 1.** \n",
    "\n",
    "a. Montrer que cette définition permet de caractériser la loi spatiale de la mesure de comptage du processus pour un couple de boréliens. c'est-à-dire qu'elle permet de calculer $\\mathbb{P}(N(A)= n, N(B)=p),~\\forall \\,n,p \\in \\mathbb{N^\\star} \\,\\forall A, B \\in \\mathcal{B}(\\mathbb{R}^2)$.\n",
    "\n",
    "b. *(facultatif)* Montrer que cette définition permet de caractériser la loi spatiale de la mesure de comptage du processus.\n"
   ]
  },
  {
   "cell_type": "markdown",
   "metadata": {},
   "source": [
    "**Réponse Question 1. a.**\n",
    "\n",
    "Soient $n,p \\in \\mathbb{N^\\star} \\, A, B \\in \\mathcal{B}(\\mathbb{R}^2)$, essayons de calculer $\\mathbb{P}(N(A)= n, N(B)=p)$\n",
    "$$\n",
    "B=(B\\backslash A) \\cup (B\\cap A) \n",
    "$$\n",
    "où $(B\\backslash A)$ et $(B\\cap A)$ sont disjoints. Donc $N(B)=N(B\\backslash A) + N(B\\cap A)$\n",
    "\n",
    "Donc $[N(B)=p]=[N(B\\backslash A) + N(B\\cap A)=p]=\\bigcup \\limits_{k=0}^p ([N(B\\backslash A)=k]\\cap[N(B\\cap A)=p-k])$\n",
    "\n",
    "D'où \n",
    "$$\\mathbb{P}(N(A)= n, N(B)=p)=\\mathbb{P}([N(A)= n] \\cap (\\bigcup \\limits_{k=0}^p ([N(B\\backslash A)=k]\\cap[N(B\\cap A)=p-k])))=\\mathbb{P}(\\bigcup \\limits_{k=0}^p ([N(B\\backslash A)=k]\\cap[N(B\\cap A)=p-k]\\cap[N(A)=n]))\n",
    "$$\n",
    "Or $A=(A\\backslash B) \\cup (B\\cap A)$ donc $([N(A)=n]\\cap[N(B\\cap A)=p-k])=([N(A\\backslash B=n-(p-k))]\\cap[N(B\\cap A)=p-k])$\n",
    "D'où \n",
    "$$\\mathbb{P}(N(A)= n, N(B)=p)=\\mathbb{P}(\\bigcup \\limits_{k=0}^p ([N(B\\backslash A)=k]\\cap[N(B\\cap A)=p-k]\\cap[N(A\\backslash B)=n-p+k]))$$\n",
    "Par sigma-additivité, comme les évenements sont 2 à 2 disjoints,\n",
    "$$\\mathbb{P}(N(A)= n, N(B)=p)=\\sum \\limits_{k=0}^{p}\\mathbb{P}([N(B\\backslash A)=k]\\cap[N(B\\cap A)=p-k]\\cap[N(A\\backslash B)=n-p+k])$$\n",
    "Comme $(B\\backslash A)$, $(B\\cap A)$ et $(A\\backslash B)$ sont 2 à 2 disjoints, $\\mathbb{P}([N(B\\backslash A)=k]\\cap[N(B\\cap A)=p-k]\\cap[N(A\\backslash B)=n-p+k])=\\mathbb{P}([N(B\\backslash A)=k])\\mathbb{P}([N(B\\cap A)=p-k])\\mathbb{P}([N(A\\backslash B)=n-p+k])$\n",
    "D'où\n",
    "$$\\mathbb{P}(N(A)= n, N(B)=p)=\\sum \\limits_{k=0}^{p}\\mathbb{P}([N(B\\backslash A)=k])\\mathbb{P}([N(B\\cap A)=p-k])\\mathbb{P}([N(A\\backslash B)=n-p+k])\n",
    "$$\n",
    "qui est calculable $~\\forall \\,n,p \\in \\mathbb{N^\\star} \\,\\forall A, B \\in \\mathcal{B}(\\mathbb{R}^2)$ car $B\\backslash A, B\\cap A$ et $A\\backslash B$ sont aussi des boréliens donc les probabilités sont bien définies\n"
   ]
  },
  {
   "cell_type": "markdown",
   "metadata": {},
   "source": [
    "**Question 2.** Soit $n \\in \\mathbb{N}^\\star$, montrer que pour tout $A, B\\in \\mathcal{B}(\\mathbb{R}^2)$ tels que  $B \\subset A$, on a\n",
    " $$ \\mathbb{P}(N(B) = i | N(A) = n)={ n \\choose i } \\left( \\frac{ | B | }{ | A | } \\right)^i \n",
    "\\, \\left( 1 - \\frac{ | B | }{ | A | } \\right)^{n - i}$$\n",
    "En déduire que conditionnellement à $N(A)=n$, les $n$ points sont indépendamment et uniformément distribués dans $A$ \n",
    " \n",
    "*(Indication: On pourra faire un parallèle avec des expériences de Bernoulli indépendantes)*.\n"
   ]
  },
  {
   "cell_type": "markdown",
   "metadata": {},
   "source": [
    "**Réponse question 2**\n",
    "Soit $n \\in \\mathbb{N}^\\star$, soit $A, B\\in\\mathbb{R}^2$ tels que  $B \\subset A$, on a :\n",
    "$$ \\mathbb{P}(N(B) = i | N(A) = n)= \\frac{\\mathbb{P}(N(B) = i \\cap N(A) = n) }{\\mathbb{P}(N(A) = n)} =\\frac{ \\sum \\limits_{k=0}^{i}\\mathbb{P}([N(B\\backslash A)=k])\\mathbb{P}([N(B\\cap A)=i-k])\\mathbb{P}([N(A\\backslash B)=n-i+k])}{\\exp \\bigl( - \\theta | A | \\bigr) \\frac{\\bigl( \\theta | A | \\bigr)^n }{n!}}$$\n",
    "d'après la question précédente. Donc : \n",
    "$$ \\mathbb{P}(N(B) = i | N(A) = n)=\\frac{\\mathbb{P}([N(B\\backslash A)=0])\\mathbb{P}([N(B\\cap A)=i])\\mathbb{P}([N(A\\backslash B)=n-i])}{\\exp \\bigl( - \\theta | A | \\bigr) \\frac{\\bigl( \\theta | A | \\bigr)^n }{n!}}=\\frac{\\mathbb{P}([N(B\\cap A)=i])\\mathbb{P}([N(A\\backslash B)=n-i])}{\\exp \\bigl( - \\theta | A | \\bigr) \\frac{\\bigl( \\theta | A | \\bigr)^n }{n!}}$$\n",
    "car $B \\subset A$ donc $ N(B \\backslash A)=0$.\n",
    "On obtient : \n",
    "$$ \\mathbb{P}(N(B) = i | N(A) = n)=\\frac{\\exp \\bigl( - \\theta | (A\\cap B) | \\bigr) \\frac{\n",
    "        \\bigl( \\theta | (A\\cap B) | \\bigr)^i }{i!}\\exp \\bigl( - \\theta | (A\\backslash B)| \\bigr) \\frac{\\bigl( \\theta | (A\\backslash B) | \\bigr)^{n-i} }{(n-i)!} }  {\\exp \\bigl( - \\theta | A | \\bigr) \\frac{\\bigl( \\theta | A | \\bigr)^n }{n!} }= \\frac{\\exp \\bigl( - \\theta | B | \\bigr) \\frac{\n",
    "        \\bigl( \\theta | B | \\bigr)^i }{i!}\\exp \\bigl( - \\theta (|A|-|B|) \\bigr) \\frac{\\bigl( \\theta (|A|-|B| \\bigr)^{n-i} }{(n-i)!} }  {\\exp \\bigl( - \\theta | A | \\bigr) \\frac{\\bigl( \\theta | A | \\bigr)^n }{n!} }$$\n",
    "\n",
    "car $A\\cap B$ = $B$ et |$A\\backslash B$|= |$A$|-|$B$| puisque $B \\subset A$. On en déduit : \n",
    "$$ \\mathbb{P}(N(B) = i | N(A) = n)=\\frac{\\frac{\n",
    "        \\bigl( \\theta | B | \\bigr)^i }{i!}\\frac{\\bigl( \\theta (| A|-|B |) \\bigr)^{n-i} }{(n-i)!} }  {\\frac{\\bigl( \\theta | A | \\bigr)^n }{n!} } =\\frac{\\bigl(| B | \\bigr)^i \\bigl( | A|-|B | \\bigr)^{n-i} n!}{i!(n-i)!\\bigl(| A | \\bigr)^n} =\n",
    "        \\left( \\frac{ | B | }{ | A | } \\right)^i \n",
    "\\, \\left( 1 - \\frac{ | B | }{ | A | } \\right)^{n - i}$$\n",
    "\n",
    "On constate ainsi que la variable aléatoire $N(B)| N(A) = n$ suit une loi binomiale de paramètre $n$ et $p = \\left( \\frac{ | B | }{ | A | } \\right)$. Les $n$ points sont donc indépendants, en faisant le parallèle avec le fait qu'une somme de $n$ variables indépendantes suivant une loi de Bernoulli de paramètre $p$ suit une loi binomiale de paramètre $(n,p)$.\n",
    "Les $n$ points sont uniformément distribués dans A car aucune dépendance par rapport à la position dans B n'apparaît dans la formule."
   ]
  },
  {
   "cell_type": "markdown",
   "metadata": {},
   "source": [
    "**Question 3.** Soient $A, B \\in \\cal{B}(\\mathbb{R}^2)$, montrer que $\\mathrm{Cov}(N(A),N(B)) = \\theta |A \\cap B|$."
   ]
  },
  {
   "cell_type": "markdown",
   "metadata": {},
   "source": [
    "**Réponse Question 3** Soient $A, B \\in \\cal{B}(\\mathbb{R}^2)$, montrons que $\\mathrm{Cov}(N(A),N(B)) = \\theta |A \\cap B|$\n",
    "\n",
    "$$\n",
    "B=(B\\backslash A) \\cup (B\\cap A)\n",
    "$$ \n",
    "avec  $(B\\backslash A)$ et $(B\\cap A)$ disjoints. \n",
    "Et\n",
    "$$\n",
    "A=(A\\backslash B) \\cup (B\\cap A) \n",
    "$$ \n",
    "avec  $(A\\backslash B)$ et $(B\\cap A)$ disjoints.\n",
    "De plus, $(A\\backslash B)$ et $(B\\backslash A)$ sont disjoints.\n",
    "\n",
    "Donc $\\mathrm{Cov}(N(A),N(B)) = \\mathrm{Cov}(N(A\\backslash B) + N(B\\cap A),N(B\\backslash A)+N(B\\cap A))$\n",
    "Par double-linéarité de la covariance,\n",
    "$$\n",
    "\\mathrm{Cov}(N(A),N(B)) = \\mathrm{Cov}(N(A\\backslash B),N(B\\backslash A)) + \\mathrm{Cov}(N(A\\backslash B),N(B\\cap A)) + \\mathrm{Cov}(N(B\\cap A),N(B\\backslash A))+ \\mathrm{Cov}(N(B\\cap A),N(B\\cap A))\n",
    "$$\n",
    "De plus, $N(A\\backslash B)$ et $N(B\\cap A)$ sont indépendants par disjonction des évenements donc leur covariance est nulle. Il en est de même pour $N(B\\backslash A)$ et $N(B\\cap A)$ et pour $N(A\\backslash B)$ et $N(B\\backslash A)$.\n",
    "Donc\n",
    "$$\n",
    "\\mathrm{Cov}(N(A),N(B)) = \\mathrm{Cov}(N(B\\cap A),N(B\\cap A)) = \\mathbb{V}(N(B\\cap A))\n",
    "$$\n",
    "Comme $N(B\\cap A)$ suit une loi de Poisson de paramètre $\\theta \\, | B\\cap A |$,\n",
    "$$\n",
    "\\mathrm{Cov}(N(A),N(B)) = \\theta \\, | B\\cap A |\n",
    "$$"
   ]
  },
  {
   "cell_type": "markdown",
   "metadata": {},
   "source": [
    "**Question 4.** Proposer et implémenter un algorithme de simulation d'un processus de Poisson de paramètre $\\theta = 0.05$ sur $[0,100]\\times [0,100]$. Représenter graphiquement une réalisation.\n",
    "\n",
    "*(Indication: On pourra utiliser les fonctions `random.poisson` et `random.uniform` de `numpy`)*"
   ]
  },
  {
   "cell_type": "code",
   "execution_count": 5,
   "metadata": {},
   "outputs": [],
   "source": [
    "import numpy as np\n",
    "rng = np.random.default_rng(seed=42)\n",
    "import matplotlib.pyplot as plt\n",
    "import scipy.stats as sps"
   ]
  },
  {
   "cell_type": "code",
   "execution_count": 6,
   "metadata": {},
   "outputs": [
    {
     "name": "stdout",
     "output_type": "stream",
     "text": [
      "484\n"
     ]
    },
    {
     "data": {
      "image/png": "[encoded data removed]",
      "text/plain": [
       "<Figure size 640x480 with 1 Axes>"
      ]
     },
     "metadata": {},
     "output_type": "display_data"
    }
   ],
   "source": [
    "# Parameters\n",
    "theta = 0.05\n",
    "a=0\n",
    "b=100\n",
    "\n",
    "# Poisson simulation function\n",
    "def poisson_simulation(theta, a, b):\n",
    "    S =  (b-a)**2 # Surface\n",
    "    N =  np.random.poisson(theta*S) # Simulation of the number of points\n",
    "    x =  np.random.uniform(a,b,N) # Simulation of the first coordinate\n",
    "    y =  np.random.uniform(a,b,N) # Simulation of the second coordinate\n",
    "    print(N)\n",
    "    return np.column_stack((x, y))\n",
    "\n",
    "# Plotting\n",
    "data = poisson_simulation(theta, a, b)\n",
    "plt.scatter(data[:, 0], data[:, 1], s =2)\n",
    "plt.show()\n"
   ]
  },
  {
   "cell_type": "markdown",
   "metadata": {},
   "source": [
    "Cette première simulation peut représenter l'implantation de pousses d'arbres (en nombre poissonnien) réalisée \"au hasard\", par exemple après une coupe rase. On peut imaginer que des facteurs extérieurs puissent interférer avec ce processus, ce que l'on va décrire avec les processus de Poisson hétérogènes."
   ]
  },
  {
   "cell_type": "markdown",
   "metadata": {},
   "source": [
    "## Processus de Poisson hétérogène\n",
    "\n",
    "Dans le cas du processus de Poisson hétérogène, l'intensité du processus $ \\theta = \\left( \\theta (x), x \\in \\R^2 \\right)$ varie. En supposant $\\theta$ positive et intégrable, il se définit comme suit :\n",
    "\n",
    "1. Si $ A \\in {\\cal B} (\\R^2) $, alors $N (A)$\n",
    "      suit une loi de Poisson de paramètre\n",
    "      $$ \\theta (A) \\ = \\ \\int_A \\theta (x) \\, dx. $$\n",
    "\n",
    "2. Si $A_1,...,A_p \\in {\\cal B} (\\R^2) $ sont \n",
    "      disjoints deux à deux, alors $ N(A_1),...,N(A_p)$ sont \n",
    "      mutuellement indépendants\n"
   ]
  },
  {
   "cell_type": "markdown",
   "metadata": {},
   "source": [
    "\n",
    "**Question 1.**  Soit $n \\in \\mathbb{N}^\\star$, montrer que si $N(A)=n$ les $n$ points sont indépendamment distribués dans $A \\in \\mathcal{B}(\\mathbb{R^2})$ avec la même densité de probabilité \n",
    "  $$ f (x)=\\frac{\\theta (x)}{\\theta (A)}, \\qquad x \\in A $$\n",
    "\n",
    "*(Indication : On pourra considérer $B \\subset A$ quelconque et identifier la loi de $\\mathbb{P}(N(B) = i | N(A) = n)$. On pourra ensuite étudier $\\mathbb{P}(N(B) = 1 | N(A) = 1)$ pour identifier la loi de probabilité de l'implantation des points)*\n",
    "\n",
    " <!-- <font color='blue'> Au vu de ce qu'ils connaissent de la notion d'indépendance, est-ce qu'on pourrait pas plutôt leur faire montrer que pour tous $B_1, \\dots, B_p \\subset A$, \n",
    " $$ \\mathbb{P}(X_1\\in B_1, \\dots, X_n \\in B_n | N(A) = n) = \\prod_{i=1}^n\\mathbb{P}(U\\in B_i)$$\n",
    " où $(X_1, \\dots, X_n)$ représente le processus ponctuel conditionné et $U$ une variable uniforme dans A.\n",
    "\n",
    " Je propose:\n",
    "\n",
    "\n",
    "**Question 1.** Soit $n\\ge 1$ et $A \\in {\\cal B} (\\R^2)$. Supposons que le processus ponctuel vérifie $N(A)=n$ et notons $(X_1,\\dots, X_n)$ les positions aléatoires, dans $A$, des points du processus. \n",
    "\n",
    "**a.** Montrer que, pour tous $B_1, \\dots, B_n \\subset A$ deux à deux disjoints\n",
    "$$ \\mathbb{P}(X_1\\in B_1, \\dots, X_n \\in B_n | N(A) = n) = \\frac{1}{n!} \\mathbb{P}(N(B_1)=1, \\dots, N(B_n)=1 | N(A) = n) $$\n",
    "\n",
    "**b.** En déduire que, pour tous $B_1, \\dots, B_n \\subset A$ deux à deux disjoints\n",
    "$$ \\mathbb{P}(X_1\\in B_1, \\dots, X_n \\in B_n | N(A) = n) = \\prod_{i=1}^n\\mathbb{P}(U\\in B_i)$$\n",
    "où $U$ est la variable aléatoire de densité de probabilité \n",
    "  $$ f_U (x)=\\frac{\\theta (x)}{\\theta (A)}, \\qquad x \\in A. $$\n",
    "\n",
    "Et on admet que ca reste vrai quand les $B_i$ ne sont pas disjoints (ou alors on met ca en question bonus, acr c'est plus galère à faire...).\n",
    "\n",
    "-> l'idée est ici de leur faire utiliser la même démarche qu'en homogène pour établir l'indépendance\n",
    "\n",
    "  </font> -->"
   ]
  },
  {
   "cell_type": "markdown",
   "metadata": {},
   "source": [
    "**ce qui est caché dans la question**\n",
    "Au vu de ce qu'ils connaissent de la notion d'indépendance, est-ce qu'on pourrait pas plutôt leur faire montrer que pour tous $B_1, \\dots, B_p \\subset A$, \n",
    " $$ \\mathbb{P}(X_1\\in B_1, \\dots, X_n \\in B_n | N(A) = n) = \\prod_{i=1}^n\\mathbb{P}(U\\in B_i)$$\n",
    " où $(X_1, \\dots, X_n)$ représente le processus ponctuel conditionné et $U$ une variable uniforme dans A.\n",
    "\n",
    " Je propose:\n",
    "\n",
    "\n",
    "**Question 1.** Soit $n\\ge 1$ et $A \\in {\\cal B} (\\R^2)$. Supposons que le processus ponctuel vérifie $N(A)=n$ et notons $(X_1,\\dots, X_n)$ les positions aléatoires, dans $A$, des points du processus. \n",
    "\n",
    "**a.** Montrer que, pour tous $B_1, \\dots, B_n \\subset A$ deux à deux disjoints\n",
    "$$ \\mathbb{P}(X_1\\in B_1, \\dots, X_n \\in B_n | N(A) = n) = \\frac{1}{n!} \\mathbb{P}(N(B_1)=1, \\dots, N(B_n)=1 | N(A) = n) $$\n",
    "\n",
    "**b.** En déduire que, pour tous $B_1, \\dots, B_n \\subset A$ deux à deux disjoints\n",
    "$$ \\mathbb{P}(X_1\\in B_1, \\dots, X_n \\in B_n | N(A) = n) = \\prod_{i=1}^n\\mathbb{P}(U\\in B_i)$$\n",
    "où $U$ est la variable aléatoire de densité de probabilité \n",
    "  $$ f_U (x)=\\frac{\\theta (x)}{\\theta (A)}, \\qquad x \\in A. $$\n",
    "\n",
    "Et on admet que ca reste vrai quand les $B_i$ ne sont pas disjoints (ou alors on met ca en question bonus, acr c'est plus galère à faire...).\n",
    "-> l'idée est ici de leur faire utiliser la même démarche qu'en homogène pour établir l'indépendance"
   ]
  },
  {
   "cell_type": "markdown",
   "metadata": {},
   "source": [
    "**Réponse Question 1**\n",
    "Soit $n\\ge 1$ et $A \\in {\\cal B} (\\R^2)$. Supposons que $N(A)=n$. Soit $B \\subset A$ quelconque, calculons $\\mathbb{P}(N(B) = i | N(A) = n)$ pour $n\\ge i$ (car sinon la probabilité est nulle).\n",
    "$$\n",
    "\\mathbb{P}(N(B) = i | N(A) = n)=\\frac{\\mathbb{P}(N(B) = i \\cap N(A) = n)}{\\mathbb{P}(N(A) = n)}=\\frac{\\mathbb{P}(N(B) = i, N(A) = n)}{\\mathbb{P}(N(A) = n)}\n",
    "$$\n",
    "Comme $B\\subset A$, on a $N(A\\backslash B)=N(A)-N(B)=n-i$ quand $N(A)=n$ et $N(B)=i$.\n",
    "Donc $(N(B) = i, N(A) = n)=(N(B) = i, N(A\\backslash B) = n-i)$ avec $B$ et $A\\backslash B$ disjoints. Les variables $N(A)$ et $N(A\\backslash B)$ sont donc indépendantes, d'où\n",
    "$$\n",
    "\\mathbb{P}(N(B) = i | N(A) = n)=\\frac{\\mathbb{P}(N(B) = i)\\mathbb{P}(N(A\\backslash B) = n-i)}{\\mathbb{P}(N(A) = n)}=\\frac{\\exp \\bigl( - \\theta (B) \\bigr) \\frac{\\bigl( \\theta (B) \\bigr)^i }{i!} \\exp \\bigl( - \\theta (A\\backslash B) \\bigr) \\frac{\\bigl( \\theta (A\\backslash B) \\bigr)^(n-i) }{(n-i)!}}{\\exp \\bigl( - \\theta (A) \\bigr) \\frac{\\bigl( \\theta (A) \\bigr)^n }{n!}}\n",
    "$$\n",
    "$$\n",
    "\\mathbb{P}(N(B) = i | N(A) = n)=\\exp \\bigl( - \\bigl(\\theta (B)+\\theta (A\\backslash B) - \\theta (A) \\bigr)\\bigr) \\frac{\\bigl( \\theta (B) \\bigr)^i \\bigl( \\theta (A\\backslash B) \\bigr)^{n-i}}{\\bigl( \\theta (A) \\bigr)^n} \\frac{n!}{i! (n-i)!}\n",
    "$$\n",
    "Comme $A=B\\cup (A\\backslash B)$, $\\theta (A)=\\theta (B)+\\theta (A\\backslash B)$ d'après la définition de $\\theta$. Donc\n",
    "$$\n",
    "\\mathbb{P}(N(B) = i | N(A) = n)={n \\choose i}\\left(\\frac{ \\theta (B)}{\\theta (A)}\\right)^i \\left( \\frac{\\theta (A\\backslash B)}{\\theta (A)} \\right)^{n-i}\n",
    "$$\n",
    "\n",
    "\n",
    "Prenons le cas $n=i=1$ : on a alors\n",
    "$$\n",
    "\\mathbb{P}(N(B) = 1 | N(A) = 1)=\\frac{\\theta (B) }{\\theta (A)}=\\ \\int_B f(x) \\, dx\n",
    "$$\n",
    "\n",
    "*hypothèse mais pas sûre*\n",
    "Si les n points $(x_1,...,x_n)$ sont dans des emplacements distincts, on peut trouver $B_1,...,B_n$ des boréliens disjoints 2 à 2 dont l'union fait A tels que chaque point se trouve dans un borélien. Par indiscernabilité des particules,\n",
    "$$\n",
    "\\mathbb{P}(\\bigcap \\limits_{i=1}^n(x_i\\in B_i)|N(A)=n)=\\frac{1}{n!}\\mathbb{P}(\\bigcap \\limits_{i=1}^n(N(B_i)=1)|N(A)=n)=\\frac{1}{n!}\\frac{\\mathbb{P}\\left(\\bigl(\\bigcap \\limits_{i=1}^n(N(B_i)=1)\\bigr)\\cap (N(A)=n)\\right)}{\\mathbb{P}(N(A)=n)}\n",
    "$$\n",
    "Or $(\\bigcap \\limits_{i=1}^n(N(B_i)=1)\\bigr)\\subset (N(A)=n)$\n",
    "Donc\n",
    "$$\n",
    "\\mathbb{P}(\\bigcap \\limits_{i=1}^n(x_i\\in B_i)|N(A)=n)=\\frac{1}{n!}\\frac{\\mathbb{P}\\left(\\bigl(\\bigcap \\limits_{i=1}^n(N(B_i)=1)\\bigr)\\right)}{\\mathbb{P}(N(A)=n)}=\\frac{1}{n!}\\frac{\\prod\\limits_{i=1}^n \\mathbb{P}(N(B_i)=1)}{\\mathbb{P}(N(A)=n)}=\\frac{n!}{n!}\\exp\\left(-\\sum _{i=1}^n \\theta(B_i)+\\theta(A)\\right)\\prod\\limits_{i=1}^n \\frac{\\theta(B_i)}{\\theta(A)}\n",
    "$$\n",
    "Comme $A=\\bigcup _{i=1}^n B_i$, $\\sum _{i=1}^n \\theta(B_i)=\\theta(A)$ donc\n",
    "$$\n",
    "\\mathbb{P}(\\bigcap \\limits_{i=1}^n(x_i\\in B_i)|N(A)=n)=\\prod\\limits_{i=1}^n \\frac{\\theta (B_i) }{\\theta (A)} = \\prod\\limits_{i=1}^n \\ \\int_{B_i} f(x) \\, dx\n",
    "$$\n",
    "Donc les points sont indépendemment distribués de densité $f(x)=\\frac{\\theta(x)}{\\theta(A)}$\n",
    "*on peut dire que ça marche aussi si certains sont sur le même emplacement ?*"
   ]
  },
  {
   "cell_type": "markdown",
   "metadata": {},
   "source": [
    "**Question 3.** Soient $A, B \\in \\cal{B}(\\mathbb{R}^2)$, montrer que $\\mathrm{Cov}(N(A),N(B)) = \\theta (A \\cap B)$."
   ]
  },
  {
   "cell_type": "markdown",
   "metadata": {},
   "source": [
    "**Réponse Question 3** Soient $A, B \\in \\cal{B}(\\mathbb{R}^2)$, montrons que $\\mathrm{Cov}(N(A),N(B)) = \\theta (A \\cap B)$\n",
    "\n",
    "$$\n",
    "B=(B\\backslash A) \\cup (B\\cap A)\n",
    "$$ \n",
    "avec  $(B\\backslash A)$ et $(B\\cap A)$ disjoints. \n",
    "Et\n",
    "$$\n",
    "A=(A\\backslash B) \\cup (B\\cap A) \n",
    "$$ \n",
    "avec  $(A\\backslash B)$ et $(B\\cap A)$ disjoints.\n",
    "De plus, $(A\\backslash B)$ et $(B\\backslash A)$ sont disjoints.\n",
    "\n",
    "Donc $\\mathrm{Cov}(N(A),N(B)) = \\mathrm{Cov}(N(A\\backslash B) + N(B\\cap A),N(B\\backslash A)+N(B\\cap A))$\n",
    "Par double-linéarité de la covariance,\n",
    "$$\n",
    "\\mathrm{Cov}(N(A),N(B)) = \\mathrm{Cov}(N(A\\backslash B),N(B\\backslash A)) + \\mathrm{Cov}(N(A\\backslash B),N(B\\cap A)) + \\mathrm{Cov}(N(B\\cap A),N(B\\backslash A))+ \\mathrm{Cov}(N(B\\cap A),N(B\\cap A))\n",
    "$$\n",
    "De plus, $N(A\\backslash B)$ et $N(B\\cap A)$ sont indépendants par disjonction des évenements donc leur covariance est nulle. Il en est de même pour $N(B\\backslash A)$ et $N(B\\cap A)$ et pour $N(A\\backslash B)$ et $N(B\\backslash A)$.\n",
    "Donc\n",
    "$$\n",
    "\\mathrm{Cov}(N(A),N(B)) = \\mathrm{Cov}(N(B\\cap A),N(B\\cap A)) = \\mathbb{V}(N(B\\cap A))\n",
    "$$\n",
    "Comme $N(B\\cap A)$ suit une loi de Poisson de paramètre $\\theta \\, ( B\\cap A )$,\n",
    "$$\n",
    "\\mathrm{Cov}(N(A),N(B)) = \\theta \\, ( B\\cap A )\n",
    "$$"
   ]
  },
  {
   "cell_type": "markdown",
   "metadata": {},
   "source": [
    "Si la plantation se fait en plusieurs campagnes, ou bien si on s'intéresse à différentes essences d'arbres, on peut être amené à combiner plusieurs processus ponctuels.\n",
    "\n",
    "**Question 4.** Montrer que l'union de deux processus de Poisson indépendants d'intensités respectives $\\theta_1$ et $\\theta_2$ est un processus de Poisson d'intensité $\\theta = \\theta_1+\\theta_2$."
   ]
  },
  {
   "cell_type": "markdown",
   "metadata": {},
   "source": [
    "**Réponse question 4**\n",
    "\n",
    "Montrons que l'union de deux processus de Poisson indépendants d'intensités respectives $\\theta_1$ et $\\theta_2$ est un processus de Poisson d'intensité $\\theta = \\theta_1+\\theta_2$. On note $N_1$ la variable aléatoire associée au processus de Poisson d'intensité $\\theta_1$, $N_2$ celle associée à l'intensité $\\theta_2$. \n",
    "\n",
    "On commence par remarquer que :\n",
    "Si $A_1,...,A_p \\in {\\cal B} (\\R^2) $ sont disjoints deux à deux, alors $ N_1(A_1),...,N_1(A_p)$ sont mutuellement indépendants et $ N_2(A_1),...,N_2(A_p)$ sont mutuellement indépendants car ce sont deux processus de Poisson. De plus, ces deux processus sont dits indépendants donc $N_1(A_1),...,N_1(A_p),N_2(A_1),...,N_2(A_p)$ sont mutuellement indépendants. \n",
    "\n",
    "On pose pour i allant de 1 à p : $g_i(N_1(A_i), N_2(A_i))= N_1(A_i)+ N_2(A_i)$. Alors $g_1,...g_p$ sont à support disjoint donc d'après le lemme des coalitions, $ N_1(A_1)+ N_2(A_1),...,N_1(A_p)+ N_2(A_p)$ sont mutuellement indépendants.\n",
    "La propriété 2 est donc vérifiée.\n",
    "\n",
    "On souhaite montrer la propriété 1, c'est-à-dire que pour tout $ A \\in {\\cal B} (\\R^2) $, alors $N_1(A)+N_2(A)$ suit une loi de Poisson de paramètre $\\theta(A)$ avec\n",
    "$$\n",
    " \\theta (A) \\ = \\ \\int_A \\theta (x) \\, dx = \\ \\int_A \\theta_1(x)+\\theta_2(x) \\, dx = \\theta_1 (A) + \\theta_2 (A) . \n",
    "$$\n",
    "\n",
    "$$\n",
    "\\mathbb{P}(N_1(A) + N_2(A)= n)= \\sum \\limits_{k=0}^{n}\\mathbb{P}(N_1(A)=k,N_2(A)= n-k) = \\sum \\limits_{k=0}^{n}\\mathbb{P}(N_1(A)=k)\\mathbb{P} (N_2(A)= n-k)\n",
    "$$ \n",
    "car les deux procesus sont indépendants. Donc :\n",
    "$$\\mathbb{P}(N_1(A) + N_2(A)= n)= \\sum \\limits_{k=0}^{n} \\exp \\bigl( - \\theta_1 (A) \\bigr) \\frac{\n",
    "        \\bigl( \\theta_1 (A) \\bigr)^k }{k!} \\exp \\bigl( - \\theta_2 (A) \\bigr) \\frac{\n",
    "        \\bigl( \\theta_2 (A) \\bigr)^{n-k}}{(n-k)!} = \\exp (- \\theta_1 (A) - \\theta_2 (A)) \\sum \\limits_{k=0}^{n} \\frac{\n",
    "        \\bigl( \\theta_1 (A) \\bigr)^k }{k!} \\frac{\n",
    "        \\bigl( \\theta_2 (A) \\bigr)^{n-k}}{(n-k)!}$$\n",
    "On fait ensuite apparaitre la formule du binome de Newton : \n",
    "$$\n",
    "\\mathbb{P}(N_1(A) + N_2(A)= n)=\\frac {\\exp (- \\theta (A) )}{n!} \\sum \\limits_{k=0}^{n} \\frac{ n! }{k!(n-k)!} ( \\theta_1 (A))^k ( \\theta_2 (A))^{n-k} = \\frac {\\exp (- \\theta (A) )}{n!} \\sum \\limits_{k=0}^{n} { n \\choose k} ( \\theta_1 (A))^k ( \\theta_2 (A))^{n-k} = \\frac {\\exp (- \\theta (A) )}{n!}(\\theta (A))^{n}\n",
    "$$\n",
    "\n",
    "On reconnaît ainsi une loi de Poisson de paramètre $\\theta (A)$."
   ]
  },
  {
   "cell_type": "markdown",
   "metadata": {},
   "source": [
    "On suppose que l'altitude (en mètres) du domaine d'étude $D=[0,100]\\times [0,100]$ peut être décrite par la fonction suivante : \n",
    "$$f(x) = 10^4 \\left(f_{(30,20),\\Sigma_1}(x) + f_{(80,45),\\Sigma_2}(x) + f_{(30,70),\\Sigma_3}(x)\\right), x\\in \\mathbb{R^2}$$\n",
    "\n",
    "où $f_{\\mu, \\Sigma}$ est la densité gaussienne bivariée d'espérance $\\mu$ et de matrice de covariance $\\Sigma$.\n",
    "\n",
    "**Question 5.** Représenter la topographie du domaine d'étude, avec\n",
    "$$\\Sigma_1 = \\begin{pmatrix} 400 & 30 \\\\ 30 & 100\\end{pmatrix}, \\Sigma_2 = \\begin{pmatrix} 100 & 20 \\\\ 20 & 200\\end{pmatrix}, \\Sigma_3 = \\begin{pmatrix} 150 & -30 \\\\ -30 & 100\\end{pmatrix}.$$\n",
    "*(Indication: On pourra utiliser la fonction `multivariate_normal`  de `scipy.stats` pour évaluer les fonctions $f_{\\mu, \\Sigma}$)*"
   ]
  },
  {
   "cell_type": "code",
   "execution_count": 16,
   "metadata": {},
   "outputs": [
    {
     "data": {
      "image/png": "[encoded data removed]",
      "text/plain": [
       "<Figure size 640x480 with 2 Axes>"
      ]
     },
     "metadata": {},
     "output_type": "display_data"
    }
   ],
   "source": [
    "from scipy.stats import multivariate_normal\n",
    "x, y = np.mgrid[0:100:.05, 0:100:.05]\n",
    "\n",
    "pos = np.dstack((x, y))\n",
    "\n",
    "esp1 = np.array([30,20])\n",
    "esp2 = np.array([80,45])\n",
    "esp3 = np.array([30,70])\n",
    "cov1 = np.array ([[400,30],[30,100]])\n",
    "cov2 = np.array ([[100,20],[20,200]])\n",
    "cov3 = np.array ([[150,-30],[-30,100]])\n",
    "\n",
    "def topo(x): \n",
    "    f1 = multivariate_normal.pdf(x, mean=esp1, cov=cov1)\n",
    "    f2 = multivariate_normal.pdf(x, mean=esp2, cov=cov2)\n",
    "    f3 = multivariate_normal.pdf(x, mean=esp3, cov=cov3)\n",
    "    return (f1+f2+f3)*(10**4)\n",
    "\n",
    "fig = plt.figure()\n",
    "\n",
    "ax = fig.add_subplot(111)\n",
    "\n",
    "CS = ax.contourf(x, y, topo(pos))\n",
    "CS2 = ax.contour(CS, levels=CS.levels)\n",
    "# Make a colorbar for the ContourSet returned by the contourf call.\n",
    "cbar = fig.colorbar(CS)\n",
    "cbar.ax.set_ylabel('altitude')\n",
    "# Add the contour line levels to the colorbar\n",
    "cbar.add_lines(CS2)\n",
    "plt.show()"
   ]
  },
  {
   "cell_type": "markdown",
   "metadata": {},
   "source": [
    "On supposera en première approximation que l'on peut considérer les supports des fonctions $f_{(30,20),\\Sigma_1}$, $f_{(80,45),\\Sigma_2}$ et $f_{(30,70),\\Sigma_3}$ comme disjoints, que le maximum de la fonction $f$ vaut\n",
    "$$ f_{\\max}=\\max_{x\\in D} f(x)=10^4\\times f_{(30,70),\\Sigma_3}(30,70) $$\n",
    "et que son minimum vaut\n",
    "$$ f_{\\min}=\\min_{x\\in D} f(x)=0$$\n",
    "<!-- et que \n",
    "$$ \\int_D f_{(3,2),\\Sigma_1}(x) dx=\\int_D f_{(8,4.5),\\Sigma_2}(x) dx=\\int_D f_{(3,7),\\Sigma_3}(x) dx=1$$ -> ça j'aimerais bien qu'ils s'en aperçoivent par eux même !-->"
   ]
  },
  {
   "cell_type": "markdown",
   "metadata": {},
   "source": [
    "Le processus d'implantation des arbres étant entravé par l'altitude, on choisi désormais de modéliser leur position par un processus de Poisson hétérogène dont l'intensité $\\theta$ est de la forme :\n",
    "$$ \\theta(x)=\\alpha\\times(f_{\\max} - f(x) )$$\n",
    "avec $ \\alpha>0$. "
   ]
  },
  {
   "cell_type": "markdown",
   "metadata": {},
   "source": [
    "\n",
    "**Question 6.** Déterminer le paramètre $\\alpha$ de la fonction d'intensité $\\theta$ tel que le nombre moyen d'arbres dans $D$ soit le même que celui obtenu à la Question 4 de la section précédente (cas homogène). Implémenter un algorithme de simulation d'un processus de Poisson suivant cette intensité sur $D$. Représenter graphiquement une réalisation.\n",
    "\n"
   ]
  },
  {
   "cell_type": "markdown",
   "metadata": {},
   "source": [
    "**Réponse Question 6**\n",
    "\n",
    "Dans le cas homogène, $N(D)$ suit une loi de poisson de paramètre $\\theta |D|=500$ (car $\\theta=0.05$). Le nombre moyen d'arbres dans D selon le processus homogène est donc **500**. Il faut maintenant trouver $\\alpha$ tel que $\\mathbb E (N(D))=500$. $N(D)$ suit une loi de Poisson de paramètre $\\theta (D)$ défini comme suit:\n",
    "$$\n",
    "\\theta(D)\\ = \\ \\int_D \\theta (x) \\, dx. \\ = \\ \\int_D \\alpha\\times(f_{\\max} - f(x) ) \\, dx.\n",
    "$$"
   ]
  },
  {
   "cell_type": "code",
   "execution_count": null,
   "metadata": {},
   "outputs": [],
   "source": [
    "# Parameters \n",
    "a=0 #convention par rapport à une question précédente\n",
    "b=100\n",
    "fmax = (10**4)*multivariate_normal.pdf((30,70), mean=esp3, cov=cov3)\n",
    "alpha = 0.02 #jsp quelle valeur mettre\n",
    "def theta(x):\n",
    "    return alpha*(fmax - topo(x))\n",
    "    \n",
    "# Rejection sampling for theta\n",
    "def rtheta(n, a, b):\n",
    "    k = 0\n",
    "    pts = np.empty((0, 2))\n",
    "    while k < n:\n",
    "        x = np.random.uniform(a,b,2)\n",
    "        y = np.random.uniform(a,b,2)\n",
    "        u = np.random.rand()\n",
    "        if u < theta((x[0],y[0])): # remark: no need to know the normalization constant!\n",
    "            pts = np.vstack((pts, [x[0], y[0]]))\n",
    "            k += 1 \n",
    "    return pts\n",
    "\n",
    "# Poisson simulation function with rejection sampling\n",
    "def poisson2(a, b):\n",
    "    Theta = np.average(topo(pos))\n",
    "    N = np.random.poisson(Theta * ((b-a)**2))\n",
    "    return rtheta(N, a, b)\n",
    "\n",
    "\n",
    "# Plotting\n",
    "X = poisson2(a, b)\n",
    "plt.scatter(X[:, 0], X[:, 1],s=2)\n",
    "plt.show()\n",
    "\n",
    "# Plot 2D histogram\n",
    "plt.hist2d(X[:,0],X[:,1],50)\n",
    "plt.show()\n",
    "\n"
   ]
  },
  {
   "cell_type": "markdown",
   "metadata": {},
   "source": [
    "## Processus ponctuels marqués et extension spatio-temporelle\n",
    "\n",
    "En complément de la coordonnée en chaque point du processus, on peut attribuer une ou plusieurs variables aléatoires. Celles-ci peuvent représenter des caractéristiques du phénomène étudié comme la magnitude d'un séisme ou bien la hauteur d'un arbre. \n",
    "\n",
    "**Question 1.** On suppose que chaque arbre croît indépendamment chaque année $t$ selon une loi exponentielle de paramètre $4 + B_t/2$, où les $B_t$ sont des variables de Bernoulli indépendantes de paramètre $2/5$. $B_t$ vaudra 0 si les conditions météorologiques de l'année sont favorables et 1 sinon. Calculer la hauteur moyenne d' un arbre au bout de 10 ans. Vérifier le résultat expérimentalement en proposant un estimateur calculé sur un ensemble de simulations ainsi qu'un intervalle de confiance."
   ]
  },
  {
   "cell_type": "code",
   "execution_count": null,
   "metadata": {},
   "outputs": [],
   "source": [
    "## True mean \n",
    "h_mean=\n",
    "\n",
    "## Growth after one year\n",
    "def height_1(b):\n",
    "    return \n",
    "\n",
    "## Height after ten years\n",
    "def height_n(nyears=10):\n",
    "    \n",
    "    for i in range(nyears):\n",
    "        \n",
    "        \n",
    "    return h\n",
    "\n",
    "## Mean of simulations\n",
    "nbsim= # large number of trees\n",
    "hsim=\n",
    "hsim_mean=\n",
    "print(\"True mean: \",h_mean)\n",
    "print(\"Mean of simulations: \",hsim_mean)\n",
    "\n",
    "## Proposed confidence interval: \n",
    "hsim_std=\n",
    "hsim_conf=\n",
    "print(\"Confidence interval: \",hsim_conf)\n",
    "\n"
   ]
  },
  {
   "cell_type": "markdown",
   "metadata": {},
   "source": [
    "On suppose maintenant que dès qu'un arbre a dépassé les 3m de hauteur, il va disperser un nombre poissonien d'intensité 3 de graines qui germeront dans un rayon exponentiel de paramètre 1/20. Ceci définit un processus ponctuel représentant des agrégats, connu sous le nom de processus de Neyman-Scott. On fait de plus l'hypothèse que la proximité entre arbres va entraver leur croissance annuelle, de fait que celle-ci suivra une loi exponentielle de paramètre $4 + B_t/2 + 2\\exp(-d)$, où $d$ est la distance à l'arbre le plus proche. Enfin, on considère que lors des années où la météo est défavorable, les arbres sont décimés indépendamment les uns des autres avec une probabilité $\\min(0.15,1/T^2)$ où $T$ est la taille de l'arbre en mètres.\n"
   ]
  },
  {
   "cell_type": "markdown",
   "metadata": {},
   "source": [
    "\n",
    "**Question 2.** Simuler cette dynamique sur une période de 100 ans à partir de l'état initial de la forêt généré à la question 6 de la section précédente. Représenter l'état final en faisant apparaître la hauteur des arbres via une échelle de couleur (on négligera les arbres qui pousseront en dehors du domaine d'étude)."
   ]
  },
  {
   "cell_type": "code",
   "execution_count": null,
   "metadata": {},
   "outputs": [],
   "source": [
    "\n",
    "## Growth after one year\n",
    "def height_1(b):\n",
    "    return \n",
    "\n",
    "## Compute distance to closest tree\n",
    "def computeMinDist(X):\n",
    "    \n",
    "\n",
    "## Definition of the probability of decimation\n",
    "### h : Height of the tree\n",
    "### pmax : Maximum of the probability\n",
    "def probDecim(h,pmax):  \n",
    "\n",
    "## Function to simulate the forest\n",
    "def simForest(nbyears,lam,param,pmin):\n",
    "\n",
    "\n",
    "    ## Simulate the position of initial trees: (x,y,time of birth)\n",
    "    \n",
    "    X = poisson2(100, 100)\n",
    "    X = np.hstack((X,np.zeros((np.shape(X)[0],1))))\n",
    "\n",
    "    ## Heights\n",
    "    # Initial heights\n",
    "\n",
    "    ## Age\n",
    "    \n",
    "\n",
    "    for i in range(nbyears):\n",
    "        \n",
    "        ## Weather\n",
    "\n",
    "        ## Compute distance to closest tree\n",
    "\n",
    "        ## Add heights\n",
    "        \n",
    "        ## Decimate\n",
    "            \n",
    "        if len(h_new)==0:\n",
    "            print(\"All trees have died...\")\n",
    "            break\n",
    "            \n",
    "        \n",
    "        ## Find which trees have just reached 3m\n",
    "        \n",
    "        ## Spawn new trees\n",
    "        \n",
    "        ## Update heights\n",
    "\n",
    "    return X, h\n",
    "\n"
   ]
  },
  {
   "cell_type": "code",
   "execution_count": null,
   "metadata": {},
   "outputs": [],
   "source": [
    "## Intensity of the offsprings\n",
    "lam=3\n",
    "\n",
    "## Parameter of the radius\n",
    "param=1/20\n",
    "\n",
    "## Maximal probability of decimation\n",
    "pmax=0.15\n",
    "\n",
    "## Number of years\n",
    "nbyears=100\n",
    "\n",
    "## Generate simulation\n",
    "X, h = simForest(nbyears,lam,param,pmax)\n",
    "\n",
    "## Plot\n",
    "plt.scatter(X[:,0],X[:,1],c=h,s=1)\n",
    "plt.xlim(0,100)\n",
    "plt.ylim(0,100)\n",
    "plt.colorbar()\n",
    "plt.title(\"Number of trees: \"+str(X.shape[0]))\n",
    "plt.show()"
   ]
  },
  {
   "cell_type": "markdown",
   "metadata": {},
   "source": [
    "\n",
    "**Question 3.** Répéter la simulation précédente un grand nombre de fois. Proposer une estimation accompagnée d'un intervalle de confiance du nombre moyen d'arbres, de l'âge moyen des arbres ainsi que de leur taille moyenne à l'issue des 100 années d'évolution."
   ]
  },
  {
   "cell_type": "code",
   "execution_count": null,
   "metadata": {},
   "outputs": [],
   "source": [
    "## Number of simulations\n",
    "nbsim = 1000\n",
    "\n",
    "## Generate simulations\n",
    "Nlist=np.zeros(nbsim)\n",
    "hlist=np.zeros(nbsim)\n",
    "for i in range(nbsim):\n",
    "    \n",
    "## Means\n",
    "print(\"Mean number of trees:\",Nlist.mean())\n",
    "print(\"Mean height of trees:\",hlist.mean())"
   ]
  },
  {
   "cell_type": "markdown",
   "metadata": {},
   "source": [
    "**Question 4.** (facultatif) Proposer et implémenter un algorithme rendant la simulation plus réaliste, au regard des ressources que vous pourriez trouver par vous même.\n",
    "\n",
    "**Question 5.** (facultatif) Représenter sous forme dynamique (animation) l'évolution de la forêt sur la période considérée."
   ]
  }
 ],
 "metadata": {
  "kernelspec": {
   "display_name": "Python 3 (ipykernel)",
   "language": "python",
   "name": "python3"
  },
  "language_info": {
   "codemirror_mode": {
    "name": "ipython",
    "version": 3
   },
   "file_extension": ".py",
   "mimetype": "text/x-python",
   "name": "python",
   "nbconvert_exporter": "python",
   "pygments_lexer": "ipython3",
   "version": "3.11.4"
  }
 },
 "nbformat": 4,
 "nbformat_minor": 4
}
